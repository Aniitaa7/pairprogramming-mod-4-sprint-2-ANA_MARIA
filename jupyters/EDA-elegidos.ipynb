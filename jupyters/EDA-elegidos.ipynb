{
 "cells": [
  {
   "cell_type": "code",
   "execution_count": 2,
   "metadata": {},
   "outputs": [],
   "source": [
    "# importamos las librerías que necesitamos\n",
    "\n",
    "# Tratamiento de datos\n",
    "# -----------------------------------------------------------------------\n",
    "import pandas as pd\n",
    "\n",
    "# Visualización\n",
    "# ------------------------------------------------------------------------------\n",
    "import matplotlib.pyplot as plt\n",
    "import seaborn as sns\n",
    "\n",
    "# Configuración\n",
    "# -----------------------------------------------------------------------\n",
    "pd.set_option('display.max_columns', None) # para poder visualizar todas las columnas de los DataFrames"
   ]
  },
  {
   "cell_type": "code",
   "execution_count": 3,
   "metadata": {},
   "outputs": [
    {
     "data": {
      "text/html": [
       "<div>\n",
       "<style scoped>\n",
       "    .dataframe tbody tr th:only-of-type {\n",
       "        vertical-align: middle;\n",
       "    }\n",
       "\n",
       "    .dataframe tbody tr th {\n",
       "        vertical-align: top;\n",
       "    }\n",
       "\n",
       "    .dataframe thead th {\n",
       "        text-align: right;\n",
       "    }\n",
       "</style>\n",
       "<table border=\"1\" class=\"dataframe\">\n",
       "  <thead>\n",
       "    <tr style=\"text-align: right;\">\n",
       "      <th></th>\n",
       "      <th>Países</th>\n",
       "      <th>Sexo</th>\n",
       "      <th>Periodo</th>\n",
       "      <th>Total</th>\n",
       "    </tr>\n",
       "  </thead>\n",
       "  <tbody>\n",
       "    <tr>\n",
       "      <th>0</th>\n",
       "      <td>UE-28</td>\n",
       "      <td>Hombres</td>\n",
       "      <td>2020</td>\n",
       "      <td>..</td>\n",
       "    </tr>\n",
       "    <tr>\n",
       "      <th>1</th>\n",
       "      <td>UE-28</td>\n",
       "      <td>Hombres</td>\n",
       "      <td>2019</td>\n",
       "      <td>45,9</td>\n",
       "    </tr>\n",
       "    <tr>\n",
       "      <th>2</th>\n",
       "      <td>UE-28</td>\n",
       "      <td>Hombres</td>\n",
       "      <td>2018</td>\n",
       "      <td>45,9</td>\n",
       "    </tr>\n",
       "    <tr>\n",
       "      <th>3</th>\n",
       "      <td>UE-28</td>\n",
       "      <td>Hombres</td>\n",
       "      <td>2017</td>\n",
       "      <td>46</td>\n",
       "    </tr>\n",
       "    <tr>\n",
       "      <th>4</th>\n",
       "      <td>UE-28</td>\n",
       "      <td>Hombres</td>\n",
       "      <td>2016</td>\n",
       "      <td>46</td>\n",
       "    </tr>\n",
       "  </tbody>\n",
       "</table>\n",
       "</div>"
      ],
      "text/plain": [
       "  Países     Sexo  Periodo Total\n",
       "0  UE-28  Hombres     2020    ..\n",
       "1  UE-28  Hombres     2019  45,9\n",
       "2  UE-28  Hombres     2018  45,9\n",
       "3  UE-28  Hombres     2017    46\n",
       "4  UE-28  Hombres     2016    46"
      ]
     },
     "execution_count": 3,
     "metadata": {},
     "output_type": "execute_result"
    }
   ],
   "source": [
    "educación = pd.read_csv('../Elegidos-educacion/Porcentaje de hombres y mujeres graduados en educación superior en la UE. CNED-2014.csv', sep=';')\n",
    "educación.head()"
   ]
  },
  {
   "cell_type": "code",
   "execution_count": 4,
   "metadata": {},
   "outputs": [
    {
     "data": {
      "text/plain": [
       "(420, 4)"
      ]
     },
     "execution_count": 4,
     "metadata": {},
     "output_type": "execute_result"
    }
   ],
   "source": [
    "educación.shape"
   ]
  },
  {
   "cell_type": "code",
   "execution_count": 5,
   "metadata": {},
   "outputs": [
    {
     "name": "stdout",
     "output_type": "stream",
     "text": [
      "<class 'pandas.core.frame.DataFrame'>\n",
      "RangeIndex: 420 entries, 0 to 419\n",
      "Data columns (total 4 columns):\n",
      " #   Column   Non-Null Count  Dtype \n",
      "---  ------   --------------  ----- \n",
      " 0   Países   420 non-null    object\n",
      " 1   Sexo     420 non-null    object\n",
      " 2   Periodo  420 non-null    int64 \n",
      " 3   Total    420 non-null    object\n",
      "dtypes: int64(1), object(3)\n",
      "memory usage: 13.3+ KB\n"
     ]
    }
   ],
   "source": [
    "educación.info()"
   ]
  },
  {
   "cell_type": "code",
   "execution_count": 6,
   "metadata": {},
   "outputs": [
    {
     "data": {
      "text/plain": [
       "array(['..', '45,9', '46', '54,1', '54', '46,3', '46,2', '53,7', '53,8',\n",
       "       '44', '43,9', '44,4', '44,3', '44,1', '56', '56,1', '55,6', '55,7',\n",
       "       '55,9', '46,1', '45,4', '45,7', '53,9', '54,6', '54,3', '43',\n",
       "       '42,9', '42,6', '42,7', '57', '57,1', '57,4', '57,3', '43,1',\n",
       "       '43,3', '43,5', '43,6', '56,9', '56,7', '56,5', '56,4', '50,8',\n",
       "       '51,5', '51,2', '51,8', '52,1', '52,6', '49,2', '48,5', '48,8',\n",
       "       '48,2', '47,9', '47,4', '41,3', '41,2', '41,4', '58,7', '58,8',\n",
       "       '58,6', '46,7', '47,6', '48', '48,4', '49,5', '53,3', '52,4', '52',\n",
       "       '51,6', '50,5', '50,6', '51,3', '51,4', '49,4', '48,7', '48,6',\n",
       "       '46,4', '46,9', '53,6', '53,1', '45,1', '45,5', '45,6', '54,9',\n",
       "       '54,5', '54,4', '42,8', '43,2', '57,2', '56,8', '44,2', '44,5',\n",
       "       '43,7', '55,8', '55,5', '56,3', '46,8', '45,3', '53,2', '54,7',\n",
       "       '43,8', '41,9', '42,1', '40,9', '40,4', '42,5', '56,2', '58,1',\n",
       "       '57,9', '59,1', '59,6', '57,5', '42,4', '57,6', '47,2', '48,1',\n",
       "       '49,1', '49', '52,8', '51,9', '50,9', '51', '45,8', '44,8', '54,2',\n",
       "       '55,2', '47,7', '52,3', '47,1', '47', '52,9', '53', '41', '40,5',\n",
       "       '40,7', '40,6', '59', '59,5', '59,3', '59,4', '46,5', '53,5',\n",
       "       '41,8', '41,7', '58,2', '58,3', '41,5', '41,1', '40,8', '40,3',\n",
       "       '58,5', '58,9', '59,2', '59,7', '39,8', '39,9', '60,2', '60,1'],\n",
       "      dtype=object)"
      ]
     },
     "execution_count": 6,
     "metadata": {},
     "output_type": "execute_result"
    }
   ],
   "source": [
    "educación['Total'].unique()"
   ]
  },
  {
   "cell_type": "code",
   "execution_count": 7,
   "metadata": {},
   "outputs": [
    {
     "data": {
      "text/plain": [
       "Países     0\n",
       "Sexo       0\n",
       "Periodo    0\n",
       "Total      0\n",
       "dtype: int64"
      ]
     },
     "execution_count": 7,
     "metadata": {},
     "output_type": "execute_result"
    }
   ],
   "source": [
    "educación.isnull().sum()"
   ]
  },
  {
   "cell_type": "markdown",
   "metadata": {},
   "source": [
    "-------------------------------------------"
   ]
  },
  {
   "cell_type": "code",
   "execution_count": 8,
   "metadata": {},
   "outputs": [],
   "source": [
    "graduadas = pd.read_csv('../Elegidos-empleos/Mujeres graduadas en educación superior por campo de estudio. España y UE-28. CNED-2014.csv', sep=';')"
   ]
  },
  {
   "cell_type": "code",
   "execution_count": 10,
   "metadata": {},
   "outputs": [
    {
     "data": {
      "text/html": [
       "<div>\n",
       "<style scoped>\n",
       "    .dataframe tbody tr th:only-of-type {\n",
       "        vertical-align: middle;\n",
       "    }\n",
       "\n",
       "    .dataframe tbody tr th {\n",
       "        vertical-align: top;\n",
       "    }\n",
       "\n",
       "    .dataframe thead th {\n",
       "        text-align: right;\n",
       "    }\n",
       "</style>\n",
       "<table border=\"1\" class=\"dataframe\">\n",
       "  <thead>\n",
       "    <tr style=\"text-align: right;\">\n",
       "      <th></th>\n",
       "      <th>Campo de estudio</th>\n",
       "      <th>Países</th>\n",
       "      <th>Periodo</th>\n",
       "      <th>Total</th>\n",
       "    </tr>\n",
       "  </thead>\n",
       "  <tbody>\n",
       "    <tr>\n",
       "      <th>0</th>\n",
       "      <td>01 Educación</td>\n",
       "      <td>España</td>\n",
       "      <td>2020</td>\n",
       "      <td>8,8</td>\n",
       "    </tr>\n",
       "    <tr>\n",
       "      <th>1</th>\n",
       "      <td>01 Educación</td>\n",
       "      <td>España</td>\n",
       "      <td>2019</td>\n",
       "      <td>8,6</td>\n",
       "    </tr>\n",
       "    <tr>\n",
       "      <th>2</th>\n",
       "      <td>01 Educación</td>\n",
       "      <td>España</td>\n",
       "      <td>2018</td>\n",
       "      <td>9</td>\n",
       "    </tr>\n",
       "    <tr>\n",
       "      <th>3</th>\n",
       "      <td>01 Educación</td>\n",
       "      <td>España</td>\n",
       "      <td>2017</td>\n",
       "      <td>8,9</td>\n",
       "    </tr>\n",
       "    <tr>\n",
       "      <th>4</th>\n",
       "      <td>01 Educación</td>\n",
       "      <td>España</td>\n",
       "      <td>2016</td>\n",
       "      <td>9</td>\n",
       "    </tr>\n",
       "  </tbody>\n",
       "</table>\n",
       "</div>"
      ],
      "text/plain": [
       "  Campo de estudio  Países  Periodo Total\n",
       "0     01 Educación  España     2020   8,8\n",
       "1     01 Educación  España     2019   8,6\n",
       "2     01 Educación  España     2018     9\n",
       "3     01 Educación  España     2017   8,9\n",
       "4     01 Educación  España     2016     9"
      ]
     },
     "execution_count": 10,
     "metadata": {},
     "output_type": "execute_result"
    }
   ],
   "source": [
    "graduadas.head()"
   ]
  },
  {
   "cell_type": "code",
   "execution_count": 11,
   "metadata": {},
   "outputs": [
    {
     "data": {
      "text/plain": [
       "(210, 4)"
      ]
     },
     "execution_count": 11,
     "metadata": {},
     "output_type": "execute_result"
    }
   ],
   "source": [
    "graduadas.shape"
   ]
  },
  {
   "cell_type": "code",
   "execution_count": 12,
   "metadata": {},
   "outputs": [
    {
     "name": "stdout",
     "output_type": "stream",
     "text": [
      "<class 'pandas.core.frame.DataFrame'>\n",
      "RangeIndex: 210 entries, 0 to 209\n",
      "Data columns (total 4 columns):\n",
      " #   Column            Non-Null Count  Dtype \n",
      "---  ------            --------------  ----- \n",
      " 0   Campo de estudio  210 non-null    object\n",
      " 1   Países            210 non-null    object\n",
      " 2   Periodo           210 non-null    int64 \n",
      " 3   Total             210 non-null    object\n",
      "dtypes: int64(1), object(3)\n",
      "memory usage: 6.7+ KB\n"
     ]
    }
   ],
   "source": [
    "graduadas.info()"
   ]
  },
  {
   "cell_type": "code",
   "execution_count": 13,
   "metadata": {},
   "outputs": [
    {
     "data": {
      "text/plain": [
       "Campo de estudio    0\n",
       "Países              0\n",
       "Periodo             0\n",
       "Total               0\n",
       "dtype: int64"
      ]
     },
     "execution_count": 13,
     "metadata": {},
     "output_type": "execute_result"
    }
   ],
   "source": [
    "graduadas.isna().sum()"
   ]
  },
  {
   "cell_type": "markdown",
   "metadata": {},
   "source": [
    "---------------------------------"
   ]
  },
  {
   "cell_type": "code",
   "execution_count": 14,
   "metadata": {},
   "outputs": [
    {
     "data": {
      "text/html": [
       "<div>\n",
       "<style scoped>\n",
       "    .dataframe tbody tr th:only-of-type {\n",
       "        vertical-align: middle;\n",
       "    }\n",
       "\n",
       "    .dataframe tbody tr th {\n",
       "        vertical-align: top;\n",
       "    }\n",
       "\n",
       "    .dataframe thead th {\n",
       "        text-align: right;\n",
       "    }\n",
       "</style>\n",
       "<table border=\"1\" class=\"dataframe\">\n",
       "  <thead>\n",
       "    <tr style=\"text-align: right;\">\n",
       "      <th></th>\n",
       "      <th>Salario anual</th>\n",
       "      <th>Sexo/Brecha de género</th>\n",
       "      <th>Periodo</th>\n",
       "      <th>Total</th>\n",
       "    </tr>\n",
       "  </thead>\n",
       "  <tbody>\n",
       "    <tr>\n",
       "      <th>0</th>\n",
       "      <td>Salario a tiempo completo</td>\n",
       "      <td>Mujeres</td>\n",
       "      <td>2021</td>\n",
       "      <td>28.185,85</td>\n",
       "    </tr>\n",
       "    <tr>\n",
       "      <th>1</th>\n",
       "      <td>Salario a tiempo completo</td>\n",
       "      <td>Mujeres</td>\n",
       "      <td>2020</td>\n",
       "      <td>27.466,76</td>\n",
       "    </tr>\n",
       "    <tr>\n",
       "      <th>2</th>\n",
       "      <td>Salario a tiempo completo</td>\n",
       "      <td>Mujeres</td>\n",
       "      <td>2019</td>\n",
       "      <td>26.939,88</td>\n",
       "    </tr>\n",
       "    <tr>\n",
       "      <th>3</th>\n",
       "      <td>Salario a tiempo completo</td>\n",
       "      <td>Mujeres</td>\n",
       "      <td>2018</td>\n",
       "      <td>26.274,06</td>\n",
       "    </tr>\n",
       "    <tr>\n",
       "      <th>4</th>\n",
       "      <td>Salario a tiempo completo</td>\n",
       "      <td>Mujeres</td>\n",
       "      <td>2017</td>\n",
       "      <td>25.416,75</td>\n",
       "    </tr>\n",
       "  </tbody>\n",
       "</table>\n",
       "</div>"
      ],
      "text/plain": [
       "               Salario anual Sexo/Brecha de género  Periodo      Total\n",
       "0  Salario a tiempo completo               Mujeres     2021  28.185,85\n",
       "1  Salario a tiempo completo               Mujeres     2020  27.466,76\n",
       "2  Salario a tiempo completo               Mujeres     2019  26.939,88\n",
       "3  Salario a tiempo completo               Mujeres     2018  26.274,06\n",
       "4  Salario a tiempo completo               Mujeres     2017  25.416,75"
      ]
     },
     "execution_count": 14,
     "metadata": {},
     "output_type": "execute_result"
    }
   ],
   "source": [
    "salario_anual = pd.read_csv('../Elegidos-salarios/Salario anual medio, mediano, modal, a tiempo completo y a tiempo parcial, por periodo..csv', sep=';')\n",
    "salario_anual.head()\n"
   ]
  },
  {
   "cell_type": "code",
   "execution_count": 17,
   "metadata": {},
   "outputs": [
    {
     "data": {
      "text/plain": [
       "(195, 4)"
      ]
     },
     "execution_count": 17,
     "metadata": {},
     "output_type": "execute_result"
    }
   ],
   "source": [
    "salario_anual.shape"
   ]
  },
  {
   "cell_type": "code",
   "execution_count": 19,
   "metadata": {},
   "outputs": [
    {
     "name": "stdout",
     "output_type": "stream",
     "text": [
      "<class 'pandas.core.frame.DataFrame'>\n",
      "RangeIndex: 195 entries, 0 to 194\n",
      "Data columns (total 4 columns):\n",
      " #   Column                 Non-Null Count  Dtype \n",
      "---  ------                 --------------  ----- \n",
      " 0   Salario anual          195 non-null    object\n",
      " 1   Sexo/Brecha de género  195 non-null    object\n",
      " 2   Periodo                195 non-null    int64 \n",
      " 3   Total                  195 non-null    object\n",
      "dtypes: int64(1), object(3)\n",
      "memory usage: 6.2+ KB\n"
     ]
    }
   ],
   "source": [
    "salario_anual.info()"
   ]
  },
  {
   "cell_type": "code",
   "execution_count": 18,
   "metadata": {},
   "outputs": [
    {
     "data": {
      "text/plain": [
       "Salario anual            0\n",
       "Sexo/Brecha de género    0\n",
       "Periodo                  0\n",
       "Total                    0\n",
       "dtype: int64"
      ]
     },
     "execution_count": 18,
     "metadata": {},
     "output_type": "execute_result"
    }
   ],
   "source": [
    "salario_anual.isnull().sum()"
   ]
  },
  {
   "cell_type": "markdown",
   "metadata": {},
   "source": [
    "------------------"
   ]
  },
  {
   "cell_type": "code",
   "execution_count": 15,
   "metadata": {},
   "outputs": [
    {
     "data": {
      "text/html": [
       "<div>\n",
       "<style scoped>\n",
       "    .dataframe tbody tr th:only-of-type {\n",
       "        vertical-align: middle;\n",
       "    }\n",
       "\n",
       "    .dataframe tbody tr th {\n",
       "        vertical-align: top;\n",
       "    }\n",
       "\n",
       "    .dataframe thead th {\n",
       "        text-align: right;\n",
       "    }\n",
       "</style>\n",
       "<table border=\"1\" class=\"dataframe\">\n",
       "  <thead>\n",
       "    <tr style=\"text-align: right;\">\n",
       "      <th></th>\n",
       "      <th>Tipo de jornada</th>\n",
       "      <th>Sexo/Brecha de género</th>\n",
       "      <th>Periodo</th>\n",
       "      <th>Total</th>\n",
       "    </tr>\n",
       "  </thead>\n",
       "  <tbody>\n",
       "    <tr>\n",
       "      <th>0</th>\n",
       "      <td>Total</td>\n",
       "      <td>Mujeres</td>\n",
       "      <td>2021</td>\n",
       "      <td>15,6</td>\n",
       "    </tr>\n",
       "    <tr>\n",
       "      <th>1</th>\n",
       "      <td>Total</td>\n",
       "      <td>Mujeres</td>\n",
       "      <td>2020</td>\n",
       "      <td>15,2</td>\n",
       "    </tr>\n",
       "    <tr>\n",
       "      <th>2</th>\n",
       "      <td>Total</td>\n",
       "      <td>Mujeres</td>\n",
       "      <td>2019</td>\n",
       "      <td>14,9</td>\n",
       "    </tr>\n",
       "    <tr>\n",
       "      <th>3</th>\n",
       "      <td>Total</td>\n",
       "      <td>Mujeres</td>\n",
       "      <td>2018</td>\n",
       "      <td>11,2</td>\n",
       "    </tr>\n",
       "    <tr>\n",
       "      <th>4</th>\n",
       "      <td>Total</td>\n",
       "      <td>Mujeres</td>\n",
       "      <td>2017</td>\n",
       "      <td>13,9</td>\n",
       "    </tr>\n",
       "  </tbody>\n",
       "</table>\n",
       "</div>"
      ],
      "text/plain": [
       "  Tipo de jornada Sexo/Brecha de género  Periodo Total\n",
       "0           Total               Mujeres     2021  15,6\n",
       "1           Total               Mujeres     2020  15,2\n",
       "2           Total               Mujeres     2019  14,9\n",
       "3           Total               Mujeres     2018  11,2\n",
       "4           Total               Mujeres     2017  13,9"
      ]
     },
     "execution_count": 15,
     "metadata": {},
     "output_type": "execute_result"
    }
   ],
   "source": [
    "salario_hora = pd.read_csv('../Elegidos-salarios/Salario por hora por tipo de jornada y periodo..csv', sep=';')\n",
    "salario_hora.head() "
   ]
  },
  {
   "cell_type": "code",
   "execution_count": 25,
   "metadata": {},
   "outputs": [
    {
     "data": {
      "text/plain": [
       "(117, 4)"
      ]
     },
     "execution_count": 25,
     "metadata": {},
     "output_type": "execute_result"
    }
   ],
   "source": [
    "salario_hora.shape"
   ]
  },
  {
   "cell_type": "code",
   "execution_count": 26,
   "metadata": {},
   "outputs": [
    {
     "name": "stdout",
     "output_type": "stream",
     "text": [
      "<class 'pandas.core.frame.DataFrame'>\n",
      "RangeIndex: 117 entries, 0 to 116\n",
      "Data columns (total 4 columns):\n",
      " #   Column                 Non-Null Count  Dtype \n",
      "---  ------                 --------------  ----- \n",
      " 0   Tipo de jornada        117 non-null    object\n",
      " 1   Sexo/Brecha de género  117 non-null    object\n",
      " 2   Periodo                117 non-null    int64 \n",
      " 3   Total                  117 non-null    object\n",
      "dtypes: int64(1), object(3)\n",
      "memory usage: 3.8+ KB\n"
     ]
    }
   ],
   "source": [
    "salario_hora.info()"
   ]
  },
  {
   "cell_type": "code",
   "execution_count": 28,
   "metadata": {},
   "outputs": [
    {
     "data": {
      "text/plain": [
       "Tipo de jornada          0\n",
       "Sexo/Brecha de género    0\n",
       "Periodo                  0\n",
       "Total                    0\n",
       "dtype: int64"
      ]
     },
     "execution_count": 28,
     "metadata": {},
     "output_type": "execute_result"
    }
   ],
   "source": [
    "salario_hora.isnull().sum()"
   ]
  },
  {
   "cell_type": "markdown",
   "metadata": {},
   "source": [
    "------------------"
   ]
  },
  {
   "cell_type": "code",
   "execution_count": 16,
   "metadata": {},
   "outputs": [
    {
     "data": {
      "text/html": [
       "<div>\n",
       "<style scoped>\n",
       "    .dataframe tbody tr th:only-of-type {\n",
       "        vertical-align: middle;\n",
       "    }\n",
       "\n",
       "    .dataframe tbody tr th {\n",
       "        vertical-align: top;\n",
       "    }\n",
       "\n",
       "    .dataframe thead th {\n",
       "        text-align: right;\n",
       "    }\n",
       "</style>\n",
       "<table border=\"1\" class=\"dataframe\">\n",
       "  <thead>\n",
       "    <tr style=\"text-align: right;\">\n",
       "      <th></th>\n",
       "      <th>Países</th>\n",
       "      <th>Grupos de edad</th>\n",
       "      <th>Periodo</th>\n",
       "      <th>Total</th>\n",
       "    </tr>\n",
       "  </thead>\n",
       "  <tbody>\n",
       "    <tr>\n",
       "      <th>0</th>\n",
       "      <td>UE27_2020</td>\n",
       "      <td>De 15 a 64 años</td>\n",
       "      <td>2023</td>\n",
       "      <td>9,3</td>\n",
       "    </tr>\n",
       "    <tr>\n",
       "      <th>1</th>\n",
       "      <td>UE27_2020</td>\n",
       "      <td>De 15 a 64 años</td>\n",
       "      <td>2022</td>\n",
       "      <td>9,8</td>\n",
       "    </tr>\n",
       "    <tr>\n",
       "      <th>2</th>\n",
       "      <td>UE27_2020</td>\n",
       "      <td>De 15 a 64 años</td>\n",
       "      <td>2021</td>\n",
       "      <td>10</td>\n",
       "    </tr>\n",
       "    <tr>\n",
       "      <th>3</th>\n",
       "      <td>UE27_2020</td>\n",
       "      <td>De 15 a 64 años</td>\n",
       "      <td>2020</td>\n",
       "      <td>10,1</td>\n",
       "    </tr>\n",
       "    <tr>\n",
       "      <th>4</th>\n",
       "      <td>UE27_2020</td>\n",
       "      <td>De 15 a 64 años</td>\n",
       "      <td>2019</td>\n",
       "      <td>10,3</td>\n",
       "    </tr>\n",
       "  </tbody>\n",
       "</table>\n",
       "</div>"
      ],
      "text/plain": [
       "      Países   Grupos de edad  Periodo Total\n",
       "0  UE27_2020  De 15 a 64 años     2023   9,3\n",
       "1  UE27_2020  De 15 a 64 años     2022   9,8\n",
       "2  UE27_2020  De 15 a 64 años     2021    10\n",
       "3  UE27_2020  De 15 a 64 años     2020  10,1\n",
       "4  UE27_2020  De 15 a 64 años     2019  10,3"
      ]
     },
     "execution_count": 16,
     "metadata": {},
     "output_type": "execute_result"
    }
   ],
   "source": [
    "brecha_gender_empleo = pd.read_csv('../Elegidos-tasa-empleo/Brecha de género en las tasas de empleo según edad en la UE y periodo.csv', sep=';')\n",
    "brecha_gender_empleo.head()"
   ]
  },
  {
   "cell_type": "code",
   "execution_count": 32,
   "metadata": {},
   "outputs": [
    {
     "data": {
      "text/plain": [
       "(1650, 4)"
      ]
     },
     "execution_count": 32,
     "metadata": {},
     "output_type": "execute_result"
    }
   ],
   "source": [
    "brecha_gender_empleo.shape"
   ]
  },
  {
   "cell_type": "code",
   "execution_count": 33,
   "metadata": {},
   "outputs": [
    {
     "name": "stdout",
     "output_type": "stream",
     "text": [
      "<class 'pandas.core.frame.DataFrame'>\n",
      "RangeIndex: 1650 entries, 0 to 1649\n",
      "Data columns (total 4 columns):\n",
      " #   Column          Non-Null Count  Dtype \n",
      "---  ------          --------------  ----- \n",
      " 0   Países          1650 non-null   object\n",
      " 1   Grupos de edad  1650 non-null   object\n",
      " 2   Periodo         1650 non-null   int64 \n",
      " 3   Total           1648 non-null   object\n",
      "dtypes: int64(1), object(3)\n",
      "memory usage: 51.7+ KB\n"
     ]
    }
   ],
   "source": [
    "brecha_gender_empleo.info()"
   ]
  },
  {
   "cell_type": "code",
   "execution_count": 34,
   "metadata": {},
   "outputs": [
    {
     "data": {
      "text/plain": [
       "Países            0\n",
       "Grupos de edad    0\n",
       "Periodo           0\n",
       "Total             2\n",
       "dtype: int64"
      ]
     },
     "execution_count": 34,
     "metadata": {},
     "output_type": "execute_result"
    }
   ],
   "source": [
    "brecha_gender_empleo.isnull().sum()"
   ]
  },
  {
   "cell_type": "markdown",
   "metadata": {},
   "source": [
    "-------------------"
   ]
  },
  {
   "cell_type": "code",
   "execution_count": 17,
   "metadata": {},
   "outputs": [
    {
     "data": {
      "text/html": [
       "<div>\n",
       "<style scoped>\n",
       "    .dataframe tbody tr th:only-of-type {\n",
       "        vertical-align: middle;\n",
       "    }\n",
       "\n",
       "    .dataframe tbody tr th {\n",
       "        vertical-align: top;\n",
       "    }\n",
       "\n",
       "    .dataframe thead th {\n",
       "        text-align: right;\n",
       "    }\n",
       "</style>\n",
       "<table border=\"1\" class=\"dataframe\">\n",
       "  <thead>\n",
       "    <tr style=\"text-align: right;\">\n",
       "      <th></th>\n",
       "      <th>Países</th>\n",
       "      <th>Sexo/Brecha de género</th>\n",
       "      <th>Niveles de educación</th>\n",
       "      <th>Periodo</th>\n",
       "      <th>Total</th>\n",
       "    </tr>\n",
       "  </thead>\n",
       "  <tbody>\n",
       "    <tr>\n",
       "      <th>0</th>\n",
       "      <td>UE27_2020</td>\n",
       "      <td>Mujeres</td>\n",
       "      <td>Preescolar, primaria y secundaria 1ª etapa (ni...</td>\n",
       "      <td>2023</td>\n",
       "      <td>46,8</td>\n",
       "    </tr>\n",
       "    <tr>\n",
       "      <th>1</th>\n",
       "      <td>UE27_2020</td>\n",
       "      <td>Mujeres</td>\n",
       "      <td>Preescolar, primaria y secundaria 1ª etapa (ni...</td>\n",
       "      <td>2022</td>\n",
       "      <td>45,6</td>\n",
       "    </tr>\n",
       "    <tr>\n",
       "      <th>2</th>\n",
       "      <td>UE27_2020</td>\n",
       "      <td>Mujeres</td>\n",
       "      <td>Preescolar, primaria y secundaria 1ª etapa (ni...</td>\n",
       "      <td>2021</td>\n",
       "      <td>43,5</td>\n",
       "    </tr>\n",
       "    <tr>\n",
       "      <th>3</th>\n",
       "      <td>UE27_2020</td>\n",
       "      <td>Mujeres</td>\n",
       "      <td>Preescolar, primaria y secundaria 1ª etapa (ni...</td>\n",
       "      <td>2020</td>\n",
       "      <td>43,4</td>\n",
       "    </tr>\n",
       "    <tr>\n",
       "      <th>4</th>\n",
       "      <td>UE27_2020</td>\n",
       "      <td>Mujeres</td>\n",
       "      <td>Preescolar, primaria y secundaria 1ª etapa (ni...</td>\n",
       "      <td>2019</td>\n",
       "      <td>44,4</td>\n",
       "    </tr>\n",
       "  </tbody>\n",
       "</table>\n",
       "</div>"
      ],
      "text/plain": [
       "      Países Sexo/Brecha de género  \\\n",
       "0  UE27_2020               Mujeres   \n",
       "1  UE27_2020               Mujeres   \n",
       "2  UE27_2020               Mujeres   \n",
       "3  UE27_2020               Mujeres   \n",
       "4  UE27_2020               Mujeres   \n",
       "\n",
       "                                Niveles de educación  Periodo Total  \n",
       "0  Preescolar, primaria y secundaria 1ª etapa (ni...     2023  46,8  \n",
       "1  Preescolar, primaria y secundaria 1ª etapa (ni...     2022  45,6  \n",
       "2  Preescolar, primaria y secundaria 1ª etapa (ni...     2021  43,5  \n",
       "3  Preescolar, primaria y secundaria 1ª etapa (ni...     2020  43,4  \n",
       "4  Preescolar, primaria y secundaria 1ª etapa (ni...     2019  44,4  "
      ]
     },
     "execution_count": 17,
     "metadata": {},
     "output_type": "execute_result"
    }
   ],
   "source": [
    "empleo_educacion = pd.read_csv('../Elegidos-tasa-empleo/Tasa de empleo según niveles de educación en la UE (de 20 a 64 años) y periodo.csv', sep = ';')\n",
    "empleo_educacion.head()"
   ]
  },
  {
   "cell_type": "code",
   "execution_count": 41,
   "metadata": {},
   "outputs": [
    {
     "data": {
      "text/plain": [
       "(2970, 5)"
      ]
     },
     "execution_count": 41,
     "metadata": {},
     "output_type": "execute_result"
    }
   ],
   "source": [
    "empleo_educacion.shape"
   ]
  },
  {
   "cell_type": "code",
   "execution_count": 42,
   "metadata": {},
   "outputs": [
    {
     "name": "stdout",
     "output_type": "stream",
     "text": [
      "<class 'pandas.core.frame.DataFrame'>\n",
      "RangeIndex: 2970 entries, 0 to 2969\n",
      "Data columns (total 5 columns):\n",
      " #   Column                 Non-Null Count  Dtype \n",
      "---  ------                 --------------  ----- \n",
      " 0   Países                 2970 non-null   object\n",
      " 1   Sexo/Brecha de género  2970 non-null   object\n",
      " 2   Niveles de educación   2970 non-null   object\n",
      " 3   Periodo                2970 non-null   int64 \n",
      " 4   Total                  2970 non-null   object\n",
      "dtypes: int64(1), object(4)\n",
      "memory usage: 116.1+ KB\n"
     ]
    }
   ],
   "source": [
    "empleo_educacion.info()"
   ]
  },
  {
   "cell_type": "code",
   "execution_count": 43,
   "metadata": {},
   "outputs": [
    {
     "data": {
      "text/plain": [
       "Países                   0\n",
       "Sexo/Brecha de género    0\n",
       "Niveles de educación     0\n",
       "Periodo                  0\n",
       "Total                    0\n",
       "dtype: int64"
      ]
     },
     "execution_count": 43,
     "metadata": {},
     "output_type": "execute_result"
    }
   ],
   "source": [
    "empleo_educacion.isnull().sum()"
   ]
  },
  {
   "cell_type": "markdown",
   "metadata": {},
   "source": [
    "-----------------"
   ]
  },
  {
   "cell_type": "code",
   "execution_count": 18,
   "metadata": {},
   "outputs": [
    {
     "data": {
      "text/html": [
       "<div>\n",
       "<style scoped>\n",
       "    .dataframe tbody tr th:only-of-type {\n",
       "        vertical-align: middle;\n",
       "    }\n",
       "\n",
       "    .dataframe tbody tr th {\n",
       "        vertical-align: top;\n",
       "    }\n",
       "\n",
       "    .dataframe thead th {\n",
       "        text-align: right;\n",
       "    }\n",
       "</style>\n",
       "<table border=\"1\" class=\"dataframe\">\n",
       "  <thead>\n",
       "    <tr style=\"text-align: right;\">\n",
       "      <th></th>\n",
       "      <th>Sexo</th>\n",
       "      <th>Países</th>\n",
       "      <th>Niveles de educación</th>\n",
       "      <th>Grupos de edad</th>\n",
       "      <th>Periodo</th>\n",
       "      <th>Total</th>\n",
       "    </tr>\n",
       "  </thead>\n",
       "  <tbody>\n",
       "    <tr>\n",
       "      <th>0</th>\n",
       "      <td>Mujeres</td>\n",
       "      <td>UE27_2020</td>\n",
       "      <td>Preescolar, primaria y secundaria 1ª etapa (ni...</td>\n",
       "      <td>De 15 a 24 años</td>\n",
       "      <td>2023</td>\n",
       "      <td>19,4</td>\n",
       "    </tr>\n",
       "    <tr>\n",
       "      <th>1</th>\n",
       "      <td>Mujeres</td>\n",
       "      <td>UE27_2020</td>\n",
       "      <td>Preescolar, primaria y secundaria 1ª etapa (ni...</td>\n",
       "      <td>De 15 a 24 años</td>\n",
       "      <td>2022</td>\n",
       "      <td>20,1</td>\n",
       "    </tr>\n",
       "    <tr>\n",
       "      <th>2</th>\n",
       "      <td>Mujeres</td>\n",
       "      <td>UE27_2020</td>\n",
       "      <td>Preescolar, primaria y secundaria 1ª etapa (ni...</td>\n",
       "      <td>De 15 a 24 años</td>\n",
       "      <td>2021</td>\n",
       "      <td>24,1</td>\n",
       "    </tr>\n",
       "    <tr>\n",
       "      <th>3</th>\n",
       "      <td>Mujeres</td>\n",
       "      <td>UE27_2020</td>\n",
       "      <td>Preescolar, primaria y secundaria 1ª etapa (ni...</td>\n",
       "      <td>De 15 a 24 años</td>\n",
       "      <td>2020</td>\n",
       "      <td>23,3</td>\n",
       "    </tr>\n",
       "    <tr>\n",
       "      <th>4</th>\n",
       "      <td>Mujeres</td>\n",
       "      <td>UE27_2020</td>\n",
       "      <td>Preescolar, primaria y secundaria 1ª etapa (ni...</td>\n",
       "      <td>De 15 a 24 años</td>\n",
       "      <td>2019</td>\n",
       "      <td>21,3</td>\n",
       "    </tr>\n",
       "  </tbody>\n",
       "</table>\n",
       "</div>"
      ],
      "text/plain": [
       "      Sexo     Países                               Niveles de educación  \\\n",
       "0  Mujeres  UE27_2020  Preescolar, primaria y secundaria 1ª etapa (ni...   \n",
       "1  Mujeres  UE27_2020  Preescolar, primaria y secundaria 1ª etapa (ni...   \n",
       "2  Mujeres  UE27_2020  Preescolar, primaria y secundaria 1ª etapa (ni...   \n",
       "3  Mujeres  UE27_2020  Preescolar, primaria y secundaria 1ª etapa (ni...   \n",
       "4  Mujeres  UE27_2020  Preescolar, primaria y secundaria 1ª etapa (ni...   \n",
       "\n",
       "    Grupos de edad  Periodo Total  \n",
       "0  De 15 a 24 años     2023  19,4  \n",
       "1  De 15 a 24 años     2022  20,1  \n",
       "2  De 15 a 24 años     2021  24,1  \n",
       "3  De 15 a 24 años     2020  23,3  \n",
       "4  De 15 a 24 años     2019  21,3  "
      ]
     },
     "execution_count": 18,
     "metadata": {},
     "output_type": "execute_result"
    }
   ],
   "source": [
    "paro_educacion = pd.read_csv('../Elegidos-tasa-paro/Tasa de paro según niveles de educación y grupos de edad en la UE.csv', sep = ';')\n",
    "paro_educacion.head()"
   ]
  },
  {
   "cell_type": "code",
   "execution_count": 46,
   "metadata": {},
   "outputs": [
    {
     "data": {
      "text/plain": [
       "(10800, 6)"
      ]
     },
     "execution_count": 46,
     "metadata": {},
     "output_type": "execute_result"
    }
   ],
   "source": [
    "paro_educacion.shape"
   ]
  },
  {
   "cell_type": "code",
   "execution_count": 47,
   "metadata": {},
   "outputs": [
    {
     "name": "stdout",
     "output_type": "stream",
     "text": [
      "<class 'pandas.core.frame.DataFrame'>\n",
      "RangeIndex: 10800 entries, 0 to 10799\n",
      "Data columns (total 6 columns):\n",
      " #   Column                Non-Null Count  Dtype \n",
      "---  ------                --------------  ----- \n",
      " 0   Sexo                  10800 non-null  object\n",
      " 1   Países                10800 non-null  object\n",
      " 2   Niveles de educación  10800 non-null  object\n",
      " 3   Grupos de edad        10800 non-null  object\n",
      " 4   Periodo               10800 non-null  int64 \n",
      " 5   Total                 10800 non-null  object\n",
      "dtypes: int64(1), object(5)\n",
      "memory usage: 506.4+ KB\n"
     ]
    }
   ],
   "source": [
    "paro_educacion.info()"
   ]
  },
  {
   "cell_type": "code",
   "execution_count": 48,
   "metadata": {},
   "outputs": [
    {
     "data": {
      "text/plain": [
       "Sexo                    0\n",
       "Países                  0\n",
       "Niveles de educación    0\n",
       "Grupos de edad          0\n",
       "Periodo                 0\n",
       "Total                   0\n",
       "dtype: int64"
      ]
     },
     "execution_count": 48,
     "metadata": {},
     "output_type": "execute_result"
    }
   ],
   "source": [
    "paro_educacion.isnull().sum()"
   ]
  },
  {
   "cell_type": "markdown",
   "metadata": {},
   "source": [
    "-------------"
   ]
  },
  {
   "cell_type": "code",
   "execution_count": 19,
   "metadata": {},
   "outputs": [
    {
     "data": {
      "text/html": [
       "<div>\n",
       "<style scoped>\n",
       "    .dataframe tbody tr th:only-of-type {\n",
       "        vertical-align: middle;\n",
       "    }\n",
       "\n",
       "    .dataframe tbody tr th {\n",
       "        vertical-align: top;\n",
       "    }\n",
       "\n",
       "    .dataframe thead th {\n",
       "        text-align: right;\n",
       "    }\n",
       "</style>\n",
       "<table border=\"1\" class=\"dataframe\">\n",
       "  <thead>\n",
       "    <tr style=\"text-align: right;\">\n",
       "      <th></th>\n",
       "      <th>Países</th>\n",
       "      <th>Sexo/Brecha de género</th>\n",
       "      <th>Periodo</th>\n",
       "      <th>Total</th>\n",
       "    </tr>\n",
       "  </thead>\n",
       "  <tbody>\n",
       "    <tr>\n",
       "      <th>0</th>\n",
       "      <td>UE27_2020</td>\n",
       "      <td>Mujeres</td>\n",
       "      <td>2023</td>\n",
       "      <td>6,3</td>\n",
       "    </tr>\n",
       "    <tr>\n",
       "      <th>1</th>\n",
       "      <td>UE27_2020</td>\n",
       "      <td>Mujeres</td>\n",
       "      <td>2022</td>\n",
       "      <td>6,5</td>\n",
       "    </tr>\n",
       "    <tr>\n",
       "      <th>2</th>\n",
       "      <td>UE27_2020</td>\n",
       "      <td>Mujeres</td>\n",
       "      <td>2021</td>\n",
       "      <td>7,4</td>\n",
       "    </tr>\n",
       "    <tr>\n",
       "      <th>3</th>\n",
       "      <td>UE27_2020</td>\n",
       "      <td>Mujeres</td>\n",
       "      <td>2020</td>\n",
       "      <td>7,6</td>\n",
       "    </tr>\n",
       "    <tr>\n",
       "      <th>4</th>\n",
       "      <td>UE27_2020</td>\n",
       "      <td>Mujeres</td>\n",
       "      <td>2019</td>\n",
       "      <td>7,2</td>\n",
       "    </tr>\n",
       "  </tbody>\n",
       "</table>\n",
       "</div>"
      ],
      "text/plain": [
       "      Países Sexo/Brecha de género  Periodo Total\n",
       "0  UE27_2020               Mujeres     2023   6,3\n",
       "1  UE27_2020               Mujeres     2022   6,5\n",
       "2  UE27_2020               Mujeres     2021   7,4\n",
       "3  UE27_2020               Mujeres     2020   7,6\n",
       "4  UE27_2020               Mujeres     2019   7,2"
      ]
     },
     "execution_count": 19,
     "metadata": {},
     "output_type": "execute_result"
    }
   ],
   "source": [
    "paro_brecha_gender = pd.read_csv('../Elegidos-tasa-paro/Tasa de paro y brecha de género (De 15 a 74 años) según periodo en la UE.csv', sep = ';')\n",
    "paro_brecha_gender.head()"
   ]
  },
  {
   "cell_type": "code",
   "execution_count": 54,
   "metadata": {},
   "outputs": [
    {
     "data": {
      "text/plain": [
       "(1350, 4)"
      ]
     },
     "execution_count": 54,
     "metadata": {},
     "output_type": "execute_result"
    }
   ],
   "source": [
    "paro_brecha_gender.shape"
   ]
  },
  {
   "cell_type": "code",
   "execution_count": 55,
   "metadata": {},
   "outputs": [
    {
     "name": "stdout",
     "output_type": "stream",
     "text": [
      "<class 'pandas.core.frame.DataFrame'>\n",
      "RangeIndex: 1350 entries, 0 to 1349\n",
      "Data columns (total 4 columns):\n",
      " #   Column                 Non-Null Count  Dtype \n",
      "---  ------                 --------------  ----- \n",
      " 0   Países                 1350 non-null   object\n",
      " 1   Sexo/Brecha de género  1350 non-null   object\n",
      " 2   Periodo                1350 non-null   int64 \n",
      " 3   Total                  1350 non-null   object\n",
      "dtypes: int64(1), object(3)\n",
      "memory usage: 42.3+ KB\n"
     ]
    }
   ],
   "source": [
    "paro_brecha_gender.info()"
   ]
  },
  {
   "cell_type": "code",
   "execution_count": 57,
   "metadata": {},
   "outputs": [
    {
     "data": {
      "text/plain": [
       "Países                   0\n",
       "Sexo/Brecha de género    0\n",
       "Periodo                  0\n",
       "Total                    0\n",
       "dtype: int64"
      ]
     },
     "execution_count": 57,
     "metadata": {},
     "output_type": "execute_result"
    }
   ],
   "source": [
    "paro_brecha_gender.isnull().sum()"
   ]
  },
  {
   "cell_type": "markdown",
   "metadata": {},
   "source": [
    "--------------------"
   ]
  },
  {
   "cell_type": "markdown",
   "metadata": {},
   "source": [
    "# UNIÓN DE LOS DATAFRAMES"
   ]
  },
  {
   "cell_type": "code",
   "execution_count": 58,
   "metadata": {},
   "outputs": [
    {
     "data": {
      "text/html": [
       "<div>\n",
       "<style scoped>\n",
       "    .dataframe tbody tr th:only-of-type {\n",
       "        vertical-align: middle;\n",
       "    }\n",
       "\n",
       "    .dataframe tbody tr th {\n",
       "        vertical-align: top;\n",
       "    }\n",
       "\n",
       "    .dataframe thead th {\n",
       "        text-align: right;\n",
       "    }\n",
       "</style>\n",
       "<table border=\"1\" class=\"dataframe\">\n",
       "  <thead>\n",
       "    <tr style=\"text-align: right;\">\n",
       "      <th></th>\n",
       "      <th>Sexo</th>\n",
       "      <th>Países</th>\n",
       "      <th>Niveles de educación</th>\n",
       "      <th>Grupos de edad</th>\n",
       "      <th>Periodo</th>\n",
       "      <th>Total</th>\n",
       "      <th>Países</th>\n",
       "      <th>Sexo/Brecha de género</th>\n",
       "      <th>Periodo</th>\n",
       "      <th>Total</th>\n",
       "    </tr>\n",
       "  </thead>\n",
       "  <tbody>\n",
       "    <tr>\n",
       "      <th>0</th>\n",
       "      <td>Mujeres</td>\n",
       "      <td>UE27_2020</td>\n",
       "      <td>Preescolar, primaria y secundaria 1ª etapa (ni...</td>\n",
       "      <td>De 15 a 24 años</td>\n",
       "      <td>2023</td>\n",
       "      <td>19,4</td>\n",
       "      <td>UE27_2020</td>\n",
       "      <td>Mujeres</td>\n",
       "      <td>2023.0</td>\n",
       "      <td>6,3</td>\n",
       "    </tr>\n",
       "    <tr>\n",
       "      <th>1</th>\n",
       "      <td>Mujeres</td>\n",
       "      <td>UE27_2020</td>\n",
       "      <td>Preescolar, primaria y secundaria 1ª etapa (ni...</td>\n",
       "      <td>De 15 a 24 años</td>\n",
       "      <td>2022</td>\n",
       "      <td>20,1</td>\n",
       "      <td>UE27_2020</td>\n",
       "      <td>Mujeres</td>\n",
       "      <td>2022.0</td>\n",
       "      <td>6,5</td>\n",
       "    </tr>\n",
       "    <tr>\n",
       "      <th>2</th>\n",
       "      <td>Mujeres</td>\n",
       "      <td>UE27_2020</td>\n",
       "      <td>Preescolar, primaria y secundaria 1ª etapa (ni...</td>\n",
       "      <td>De 15 a 24 años</td>\n",
       "      <td>2021</td>\n",
       "      <td>24,1</td>\n",
       "      <td>UE27_2020</td>\n",
       "      <td>Mujeres</td>\n",
       "      <td>2021.0</td>\n",
       "      <td>7,4</td>\n",
       "    </tr>\n",
       "    <tr>\n",
       "      <th>3</th>\n",
       "      <td>Mujeres</td>\n",
       "      <td>UE27_2020</td>\n",
       "      <td>Preescolar, primaria y secundaria 1ª etapa (ni...</td>\n",
       "      <td>De 15 a 24 años</td>\n",
       "      <td>2020</td>\n",
       "      <td>23,3</td>\n",
       "      <td>UE27_2020</td>\n",
       "      <td>Mujeres</td>\n",
       "      <td>2020.0</td>\n",
       "      <td>7,6</td>\n",
       "    </tr>\n",
       "    <tr>\n",
       "      <th>4</th>\n",
       "      <td>Mujeres</td>\n",
       "      <td>UE27_2020</td>\n",
       "      <td>Preescolar, primaria y secundaria 1ª etapa (ni...</td>\n",
       "      <td>De 15 a 24 años</td>\n",
       "      <td>2019</td>\n",
       "      <td>21,3</td>\n",
       "      <td>UE27_2020</td>\n",
       "      <td>Mujeres</td>\n",
       "      <td>2019.0</td>\n",
       "      <td>7,2</td>\n",
       "    </tr>\n",
       "  </tbody>\n",
       "</table>\n",
       "</div>"
      ],
      "text/plain": [
       "      Sexo     Países                               Niveles de educación  \\\n",
       "0  Mujeres  UE27_2020  Preescolar, primaria y secundaria 1ª etapa (ni...   \n",
       "1  Mujeres  UE27_2020  Preescolar, primaria y secundaria 1ª etapa (ni...   \n",
       "2  Mujeres  UE27_2020  Preescolar, primaria y secundaria 1ª etapa (ni...   \n",
       "3  Mujeres  UE27_2020  Preescolar, primaria y secundaria 1ª etapa (ni...   \n",
       "4  Mujeres  UE27_2020  Preescolar, primaria y secundaria 1ª etapa (ni...   \n",
       "\n",
       "    Grupos de edad  Periodo Total     Países Sexo/Brecha de género  Periodo  \\\n",
       "0  De 15 a 24 años     2023  19,4  UE27_2020               Mujeres   2023.0   \n",
       "1  De 15 a 24 años     2022  20,1  UE27_2020               Mujeres   2022.0   \n",
       "2  De 15 a 24 años     2021  24,1  UE27_2020               Mujeres   2021.0   \n",
       "3  De 15 a 24 años     2020  23,3  UE27_2020               Mujeres   2020.0   \n",
       "4  De 15 a 24 años     2019  21,3  UE27_2020               Mujeres   2019.0   \n",
       "\n",
       "  Total  \n",
       "0   6,3  \n",
       "1   6,5  \n",
       "2   7,4  \n",
       "3   7,6  \n",
       "4   7,2  "
      ]
     },
     "execution_count": 58,
     "metadata": {},
     "output_type": "execute_result"
    }
   ],
   "source": [
    "total_paro = pd.concat([paro_educacion, paro_brecha_gender], axis=1)\n",
    "total_paro.head()"
   ]
  },
  {
   "cell_type": "code",
   "execution_count": 63,
   "metadata": {},
   "outputs": [],
   "source": [
    "total_paro['Periodo'] = total_paro['Periodo'].astype('Int64')"
   ]
  },
  {
   "cell_type": "markdown",
   "metadata": {},
   "source": [
    "------------"
   ]
  },
  {
   "cell_type": "code",
   "execution_count": 59,
   "metadata": {},
   "outputs": [
    {
     "data": {
      "text/html": [
       "<div>\n",
       "<style scoped>\n",
       "    .dataframe tbody tr th:only-of-type {\n",
       "        vertical-align: middle;\n",
       "    }\n",
       "\n",
       "    .dataframe tbody tr th {\n",
       "        vertical-align: top;\n",
       "    }\n",
       "\n",
       "    .dataframe thead th {\n",
       "        text-align: right;\n",
       "    }\n",
       "</style>\n",
       "<table border=\"1\" class=\"dataframe\">\n",
       "  <thead>\n",
       "    <tr style=\"text-align: right;\">\n",
       "      <th></th>\n",
       "      <th>Países</th>\n",
       "      <th>Grupos de edad</th>\n",
       "      <th>Periodo</th>\n",
       "      <th>Total</th>\n",
       "      <th>Países</th>\n",
       "      <th>Sexo/Brecha de género</th>\n",
       "      <th>Niveles de educación</th>\n",
       "      <th>Periodo</th>\n",
       "      <th>Total</th>\n",
       "    </tr>\n",
       "  </thead>\n",
       "  <tbody>\n",
       "    <tr>\n",
       "      <th>0</th>\n",
       "      <td>UE27_2020</td>\n",
       "      <td>De 15 a 64 años</td>\n",
       "      <td>2023.0</td>\n",
       "      <td>9,3</td>\n",
       "      <td>UE27_2020</td>\n",
       "      <td>Mujeres</td>\n",
       "      <td>Preescolar, primaria y secundaria 1ª etapa (ni...</td>\n",
       "      <td>2023</td>\n",
       "      <td>46,8</td>\n",
       "    </tr>\n",
       "    <tr>\n",
       "      <th>1</th>\n",
       "      <td>UE27_2020</td>\n",
       "      <td>De 15 a 64 años</td>\n",
       "      <td>2022.0</td>\n",
       "      <td>9,8</td>\n",
       "      <td>UE27_2020</td>\n",
       "      <td>Mujeres</td>\n",
       "      <td>Preescolar, primaria y secundaria 1ª etapa (ni...</td>\n",
       "      <td>2022</td>\n",
       "      <td>45,6</td>\n",
       "    </tr>\n",
       "    <tr>\n",
       "      <th>2</th>\n",
       "      <td>UE27_2020</td>\n",
       "      <td>De 15 a 64 años</td>\n",
       "      <td>2021.0</td>\n",
       "      <td>10</td>\n",
       "      <td>UE27_2020</td>\n",
       "      <td>Mujeres</td>\n",
       "      <td>Preescolar, primaria y secundaria 1ª etapa (ni...</td>\n",
       "      <td>2021</td>\n",
       "      <td>43,5</td>\n",
       "    </tr>\n",
       "    <tr>\n",
       "      <th>3</th>\n",
       "      <td>UE27_2020</td>\n",
       "      <td>De 15 a 64 años</td>\n",
       "      <td>2020.0</td>\n",
       "      <td>10,1</td>\n",
       "      <td>UE27_2020</td>\n",
       "      <td>Mujeres</td>\n",
       "      <td>Preescolar, primaria y secundaria 1ª etapa (ni...</td>\n",
       "      <td>2020</td>\n",
       "      <td>43,4</td>\n",
       "    </tr>\n",
       "    <tr>\n",
       "      <th>4</th>\n",
       "      <td>UE27_2020</td>\n",
       "      <td>De 15 a 64 años</td>\n",
       "      <td>2019.0</td>\n",
       "      <td>10,3</td>\n",
       "      <td>UE27_2020</td>\n",
       "      <td>Mujeres</td>\n",
       "      <td>Preescolar, primaria y secundaria 1ª etapa (ni...</td>\n",
       "      <td>2019</td>\n",
       "      <td>44,4</td>\n",
       "    </tr>\n",
       "  </tbody>\n",
       "</table>\n",
       "</div>"
      ],
      "text/plain": [
       "      Países   Grupos de edad  Periodo Total     Países Sexo/Brecha de género  \\\n",
       "0  UE27_2020  De 15 a 64 años   2023.0   9,3  UE27_2020               Mujeres   \n",
       "1  UE27_2020  De 15 a 64 años   2022.0   9,8  UE27_2020               Mujeres   \n",
       "2  UE27_2020  De 15 a 64 años   2021.0    10  UE27_2020               Mujeres   \n",
       "3  UE27_2020  De 15 a 64 años   2020.0  10,1  UE27_2020               Mujeres   \n",
       "4  UE27_2020  De 15 a 64 años   2019.0  10,3  UE27_2020               Mujeres   \n",
       "\n",
       "                                Niveles de educación  Periodo Total  \n",
       "0  Preescolar, primaria y secundaria 1ª etapa (ni...     2023  46,8  \n",
       "1  Preescolar, primaria y secundaria 1ª etapa (ni...     2022  45,6  \n",
       "2  Preescolar, primaria y secundaria 1ª etapa (ni...     2021  43,5  \n",
       "3  Preescolar, primaria y secundaria 1ª etapa (ni...     2020  43,4  \n",
       "4  Preescolar, primaria y secundaria 1ª etapa (ni...     2019  44,4  "
      ]
     },
     "execution_count": 59,
     "metadata": {},
     "output_type": "execute_result"
    }
   ],
   "source": [
    "total_empleo = pd.concat([brecha_gender_empleo, empleo_educacion], axis=1)\n",
    "total_empleo.head()"
   ]
  },
  {
   "cell_type": "code",
   "execution_count": 60,
   "metadata": {},
   "outputs": [
    {
     "name": "stdout",
     "output_type": "stream",
     "text": [
      "<class 'pandas.core.frame.DataFrame'>\n",
      "RangeIndex: 2970 entries, 0 to 2969\n",
      "Data columns (total 9 columns):\n",
      " #   Column                 Non-Null Count  Dtype  \n",
      "---  ------                 --------------  -----  \n",
      " 0   Países                 1650 non-null   object \n",
      " 1   Grupos de edad         1650 non-null   object \n",
      " 2   Periodo                1650 non-null   float64\n",
      " 3   Total                  1648 non-null   object \n",
      " 4   Países                 2970 non-null   object \n",
      " 5   Sexo/Brecha de género  2970 non-null   object \n",
      " 6   Niveles de educación   2970 non-null   object \n",
      " 7   Periodo                2970 non-null   int64  \n",
      " 8   Total                  2970 non-null   object \n",
      "dtypes: float64(1), int64(1), object(7)\n",
      "memory usage: 209.0+ KB\n"
     ]
    }
   ],
   "source": [
    "total_empleo.info()"
   ]
  },
  {
   "cell_type": "code",
   "execution_count": 61,
   "metadata": {},
   "outputs": [],
   "source": [
    "total_empleo['Periodo'] = total_empleo['Periodo'].astype('Int64')"
   ]
  },
  {
   "cell_type": "code",
   "execution_count": 62,
   "metadata": {},
   "outputs": [
    {
     "data": {
      "text/html": [
       "<div>\n",
       "<style scoped>\n",
       "    .dataframe tbody tr th:only-of-type {\n",
       "        vertical-align: middle;\n",
       "    }\n",
       "\n",
       "    .dataframe tbody tr th {\n",
       "        vertical-align: top;\n",
       "    }\n",
       "\n",
       "    .dataframe thead th {\n",
       "        text-align: right;\n",
       "    }\n",
       "</style>\n",
       "<table border=\"1\" class=\"dataframe\">\n",
       "  <thead>\n",
       "    <tr style=\"text-align: right;\">\n",
       "      <th></th>\n",
       "      <th>Países</th>\n",
       "      <th>Grupos de edad</th>\n",
       "      <th>Periodo</th>\n",
       "      <th>Total</th>\n",
       "      <th>Países</th>\n",
       "      <th>Sexo/Brecha de género</th>\n",
       "      <th>Niveles de educación</th>\n",
       "      <th>Periodo</th>\n",
       "      <th>Total</th>\n",
       "    </tr>\n",
       "  </thead>\n",
       "  <tbody>\n",
       "    <tr>\n",
       "      <th>0</th>\n",
       "      <td>UE27_2020</td>\n",
       "      <td>De 15 a 64 años</td>\n",
       "      <td>2023</td>\n",
       "      <td>9,3</td>\n",
       "      <td>UE27_2020</td>\n",
       "      <td>Mujeres</td>\n",
       "      <td>Preescolar, primaria y secundaria 1ª etapa (ni...</td>\n",
       "      <td>2023</td>\n",
       "      <td>46,8</td>\n",
       "    </tr>\n",
       "  </tbody>\n",
       "</table>\n",
       "</div>"
      ],
      "text/plain": [
       "      Países   Grupos de edad  Periodo Total     Países Sexo/Brecha de género  \\\n",
       "0  UE27_2020  De 15 a 64 años     2023   9,3  UE27_2020               Mujeres   \n",
       "\n",
       "                                Niveles de educación  Periodo Total  \n",
       "0  Preescolar, primaria y secundaria 1ª etapa (ni...     2023  46,8  "
      ]
     },
     "execution_count": 62,
     "metadata": {},
     "output_type": "execute_result"
    }
   ],
   "source": [
    "total_empleo.head(1)"
   ]
  },
  {
   "cell_type": "markdown",
   "metadata": {},
   "source": [
    "----------------"
   ]
  },
  {
   "cell_type": "code",
   "execution_count": 64,
   "metadata": {},
   "outputs": [
    {
     "data": {
      "text/html": [
       "<div>\n",
       "<style scoped>\n",
       "    .dataframe tbody tr th:only-of-type {\n",
       "        vertical-align: middle;\n",
       "    }\n",
       "\n",
       "    .dataframe tbody tr th {\n",
       "        vertical-align: top;\n",
       "    }\n",
       "\n",
       "    .dataframe thead th {\n",
       "        text-align: right;\n",
       "    }\n",
       "</style>\n",
       "<table border=\"1\" class=\"dataframe\">\n",
       "  <thead>\n",
       "    <tr style=\"text-align: right;\">\n",
       "      <th></th>\n",
       "      <th>Salario anual</th>\n",
       "      <th>Sexo/Brecha de género</th>\n",
       "      <th>Periodo</th>\n",
       "      <th>Total</th>\n",
       "      <th>Tipo de jornada</th>\n",
       "      <th>Sexo/Brecha de género</th>\n",
       "      <th>Periodo</th>\n",
       "      <th>Total</th>\n",
       "    </tr>\n",
       "  </thead>\n",
       "  <tbody>\n",
       "    <tr>\n",
       "      <th>0</th>\n",
       "      <td>Salario a tiempo completo</td>\n",
       "      <td>Mujeres</td>\n",
       "      <td>2021</td>\n",
       "      <td>28.185,85</td>\n",
       "      <td>Total</td>\n",
       "      <td>Mujeres</td>\n",
       "      <td>2021.0</td>\n",
       "      <td>15,6</td>\n",
       "    </tr>\n",
       "    <tr>\n",
       "      <th>1</th>\n",
       "      <td>Salario a tiempo completo</td>\n",
       "      <td>Mujeres</td>\n",
       "      <td>2020</td>\n",
       "      <td>27.466,76</td>\n",
       "      <td>Total</td>\n",
       "      <td>Mujeres</td>\n",
       "      <td>2020.0</td>\n",
       "      <td>15,2</td>\n",
       "    </tr>\n",
       "    <tr>\n",
       "      <th>2</th>\n",
       "      <td>Salario a tiempo completo</td>\n",
       "      <td>Mujeres</td>\n",
       "      <td>2019</td>\n",
       "      <td>26.939,88</td>\n",
       "      <td>Total</td>\n",
       "      <td>Mujeres</td>\n",
       "      <td>2019.0</td>\n",
       "      <td>14,9</td>\n",
       "    </tr>\n",
       "    <tr>\n",
       "      <th>3</th>\n",
       "      <td>Salario a tiempo completo</td>\n",
       "      <td>Mujeres</td>\n",
       "      <td>2018</td>\n",
       "      <td>26.274,06</td>\n",
       "      <td>Total</td>\n",
       "      <td>Mujeres</td>\n",
       "      <td>2018.0</td>\n",
       "      <td>11,2</td>\n",
       "    </tr>\n",
       "    <tr>\n",
       "      <th>4</th>\n",
       "      <td>Salario a tiempo completo</td>\n",
       "      <td>Mujeres</td>\n",
       "      <td>2017</td>\n",
       "      <td>25.416,75</td>\n",
       "      <td>Total</td>\n",
       "      <td>Mujeres</td>\n",
       "      <td>2017.0</td>\n",
       "      <td>13,9</td>\n",
       "    </tr>\n",
       "  </tbody>\n",
       "</table>\n",
       "</div>"
      ],
      "text/plain": [
       "               Salario anual Sexo/Brecha de género  Periodo      Total  \\\n",
       "0  Salario a tiempo completo               Mujeres     2021  28.185,85   \n",
       "1  Salario a tiempo completo               Mujeres     2020  27.466,76   \n",
       "2  Salario a tiempo completo               Mujeres     2019  26.939,88   \n",
       "3  Salario a tiempo completo               Mujeres     2018  26.274,06   \n",
       "4  Salario a tiempo completo               Mujeres     2017  25.416,75   \n",
       "\n",
       "  Tipo de jornada Sexo/Brecha de género  Periodo Total  \n",
       "0           Total               Mujeres   2021.0  15,6  \n",
       "1           Total               Mujeres   2020.0  15,2  \n",
       "2           Total               Mujeres   2019.0  14,9  \n",
       "3           Total               Mujeres   2018.0  11,2  \n",
       "4           Total               Mujeres   2017.0  13,9  "
      ]
     },
     "execution_count": 64,
     "metadata": {},
     "output_type": "execute_result"
    }
   ],
   "source": [
    "total_salario = pd.concat([salario_anual, salario_hora], axis=1)\n",
    "total_salario.head()"
   ]
  },
  {
   "cell_type": "code",
   "execution_count": 65,
   "metadata": {},
   "outputs": [],
   "source": [
    "total_salario['Periodo'] = total_salario['Periodo'].astype('Int64')"
   ]
  }
 ],
 "metadata": {
  "kernelspec": {
   "display_name": "base",
   "language": "python",
   "name": "python3"
  },
  "language_info": {
   "codemirror_mode": {
    "name": "ipython",
    "version": 3
   },
   "file_extension": ".py",
   "mimetype": "text/x-python",
   "name": "python",
   "nbconvert_exporter": "python",
   "pygments_lexer": "ipython3",
   "version": "3.12.4"
  }
 },
 "nbformat": 4,
 "nbformat_minor": 2
}
